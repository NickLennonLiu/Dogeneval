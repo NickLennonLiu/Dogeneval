{
 "cells": [
  {
   "cell_type": "code",
   "execution_count": 2,
   "metadata": {},
   "outputs": [],
   "source": [
    "\"\"\"\n",
    "10.15临时\n",
    "\"\"\"\n",
    "\n",
    "from dogeneval.utils.mongodb import load_results\n",
    "\n",
    "import pandas as pd\n",
    "import numpy as np\n",
    "\n",
    "import json, re, os, sys, time, datetime, random\n",
    "\n",
    "import matplotlib.pyplot as plt\n",
    "\n",
    "def main1():\n",
    "    template_file = \"/home/junetheriver/codes/qa_generation/huawei/dogeneval/template/templates_1014_v2.json\"\n",
    "    with open(template_file) as f:\n",
    "        templates = json.load(f)\n",
    "    pattern_types = [f\"{template['L1']}-{template['L2']}-{template['L3']}\".replace(\"/\", \"\") for template in templates if not template['弃用'] and template['L3'] != \"其他\"]\n",
    "\n",
    "    print(pattern_types)\n",
    "    # get_template_patterns\n",
    "\n",
    "    kp_mapping_result = \"kp_template_mapping\"\n",
    "    results = load_results(kp_mapping_result)\n",
    "    # print(results[0])\n",
    "    df = pd.DataFrame(results)\n",
    "    # print(df.columns)\n",
    "\n",
    "    df_types = pd.DataFrame(df[pattern_types]).copy(deep=True)\n",
    "\n",
    "    print(df_types)\n",
    "\n",
    "    print(df_types.columns)\n",
    "\n",
    "    for pattern in pattern_types:\n",
    "        print(pattern)\n",
    "        assert pattern in df_types.columns\n",
    "        df_types[pattern].fillna({\"choose\": False})\n",
    "        df_types[pattern] = df_types[pattern].apply(lambda x: x['choose'] if not isinstance(x, float) else False)\n",
    "    \n",
    "    print(df_types)\n",
    "\n",
    "    import matplotlib.pyplot as plt\n",
    "\n",
    "    # 设置中文字体 (SimHei 是常用的中文字体之一)\n",
    "    plt.rcParams['font.family'] = ['simhei']  # 用于正常显示中文标签\n",
    "    plt.rcParams['axes.unicode_minus'] = False    # 用于正常显示负号\n",
    "\n",
    "    # 1. 计算每列中True的数量并绘制柱状图\n",
    "    def plot_true_counts_per_column(df):\n",
    "        true_counts_columns = df.sum()  # 计算每列的True值数量\n",
    "        plt.figure(figsize=(10, 6))\n",
    "        true_counts_columns.plot(kind='bar', color='skyblue')\n",
    "        plt.title('知识点匹配模板情况')\n",
    "        plt.xlabel('模板类型')\n",
    "        plt.ylabel('知识点匹配数')\n",
    "        plt.xticks(rotation=45)\n",
    "        plt.tight_layout()\n",
    "        plt.savefig(\"demo/true_counts_per_column.png\")\n",
    "        # plt.show()\n",
    "\n",
    "    # 2. 计算每行中True的数量并绘制直方图\n",
    "    def plot_true_counts_per_row(df):\n",
    "        true_counts_rows = df.sum(axis=1)  # 计算每行的True值数量\n",
    "        plt.figure(figsize=(10, 6))\n",
    "        plt.hist(true_counts_rows, bins=range(0, df.shape[1] + 2), color='salmon', edgecolor='black', alpha=0.7)\n",
    "        plt.title('知识点匹配模板个数直方图')\n",
    "        plt.xlabel('匹配模板数')\n",
    "        plt.ylabel('频率')\n",
    "        plt.tight_layout()\n",
    "        plt.savefig(\"demo/true_counts_per_row.png\")\n",
    "        # plt.show()\n",
    "\n",
    "    plot_true_counts_per_column(df_types)\n",
    "\n",
    "    plot_true_counts_per_row(df_types)\n",
    "\n",
    "results1 = load_results(\"Q2-10141807\")\n",
    "results2 = load_results(\"Q2-10142039\")\n",
    "\n",
    "results = results1 + results2\n",
    "\n",
    "df = pd.DataFrame(results)\n",
    "df = df[[\n",
    "    'L1', 'L2', 'L3',\n",
    "    'template', 'Q2_response_azure', \n",
    "    'kp_title', 'kp_content',\n",
    "    'kp_type',\n",
    "    \n",
    "    'Q2_azure',\n",
    "    'A2_azure',\n",
    "    'error_azure',\n",
    "    'match_azure',\n",
    "    'reason_azure',\n",
    "    'kp_path',\n",
    "]]\n",
    "\n",
    "df['name'] = df['L1'] + \"-\" + df['L2'] + \"-\" + df['L3']\n",
    "\n",
    "# 以df['name']为组，统计error_azure中出现\"Parse\"的行的数量\n",
    "df['error_azure'] = df['error_azure'].fillna(\"\")\n",
    "df['parse_error'] = df['error_azure'].apply(lambda x: \"KeyError in response\" in x or 'JSON Parse Error' in x)\n",
    "\n",
    "df['reject'] = df['error_azure'].apply(lambda x: \"Error in response\" in x and \"KeyError\" not in x)\n",
    "\n",
    "df['not_match'] = df['match_azure'].apply(lambda x: not x)\n",
    "\n",
    "df['ok'] = df['match_azure'] & ~df['parse_error'] & ~df['reject']\n",
    "\n",
    "df_statics = df[[\n",
    "    'name', \n",
    "    'reject',\n",
    "    'parse_error',\n",
    "    'not_match',\n",
    "    'ok',\n",
    "    'error_azure',\n",
    "    'kp_type',\n",
    "]]\n",
    "\n",
    "# 确认df_statics中每行有且只有一个True，否则报错输出该行\n",
    "\n",
    "for i, row in df_statics.iterrows():\n",
    "    # 将row转换为Series，计算True的数量\n",
    "    true_num = sum([row[col] for col in df_statics.columns if col != 'name' and col != 'error_azure'])\n",
    "    if true_num != 1:\n",
    "        print(row)\n",
    "        raise ValueError(\"Error in row\")\n",
    "\n",
    "df_statics = df_statics.drop(columns=['error_azure'])\n"
   ]
  },
  {
   "cell_type": "code",
   "execution_count": 3,
   "metadata": {},
   "outputs": [
    {
     "name": "stdout",
     "output_type": "stream",
     "text": [
      "                      reject  parse_error  not_match   ok\n",
      "name                                                     \n",
      "代码/MML生成-NL2MML-配置助理      31            0         58   23\n",
      "任务规划-任务分解-告警助理            11            2         33   66\n",
      "工具使用-工具选择-告警助理            70            0         23   19\n",
      "工具使用-工具选择-故障诊断             0            0          4  108\n",
      "数学计算-四则运算-告警助理           108            0          3    1\n",
      "文本生成-复合指令的文本改写-配置助理        5            0          4  103\n",
      "文本生成-文本改写-其他               0            1          6  107\n",
      "格式遵从-结构化生成-告警助理            0            1          5  108\n",
      "语义理解-信息抽取-告警助理             1            0         69   42\n",
      "语义理解-信息抽取-投诉助理             0            1         19   92\n",
      "语义理解-信息抽取-配置助理             0            0          8  104\n",
      "语义理解-摘要总结-告警助理             0            0          6  106\n",
      "语义理解-文本分类-投诉助理             2            0         32   78\n",
      "语义理解-阅读理解-告警助理             0            0         14   98\n",
      "语义理解-阅读理解-配置助理             0            0         10  104\n",
      "逻辑推理-因果推理-信令分析             0            1          6  105\n",
      "逻辑推理-因果推理-投诉穿刺             0            0         46   66\n",
      "Index(['代码/MML生成-NL2MML-配置助理', '任务规划-任务分解-告警助理', '工具使用-工具选择-告警助理',\n",
      "       '工具使用-工具选择-故障诊断', '数学计算-四则运算-告警助理', '文本生成-复合指令的文本改写-配置助理',\n",
      "       '文本生成-文本改写-其他', '格式遵从-结构化生成-告警助理', '语义理解-信息抽取-告警助理', '语义理解-信息抽取-投诉助理',\n",
      "       '语义理解-信息抽取-配置助理', '语义理解-摘要总结-告警助理', '语义理解-文本分类-投诉助理', '语义理解-阅读理解-告警助理',\n",
      "       '语义理解-阅读理解-配置助理', '逻辑推理-因果推理-信令分析', '逻辑推理-因果推理-投诉穿刺'],\n",
      "      dtype='object', name='name')\n"
     ]
    },
    {
     "data": {
      "application/vnd.plotly.v1+json": {
       "config": {
        "plotlyServerURL": "https://plot.ly"
       },
       "data": [
        {
         "marker": {
          "color": "green"
         },
         "name": "OK",
         "type": "bar",
         "x": [
          "代码/MML生成-NL2MML-配置助理",
          "任务规划-任务分解-告警助理",
          "工具使用-工具选择-告警助理",
          "工具使用-工具选择-故障诊断",
          "数学计算-四则运算-告警助理",
          "文本生成-复合指令的文本改写-配置助理",
          "文本生成-文本改写-其他",
          "格式遵从-结构化生成-告警助理",
          "语义理解-信息抽取-告警助理",
          "语义理解-信息抽取-投诉助理",
          "语义理解-信息抽取-配置助理",
          "语义理解-摘要总结-告警助理",
          "语义理解-文本分类-投诉助理",
          "语义理解-阅读理解-告警助理",
          "语义理解-阅读理解-配置助理",
          "逻辑推理-因果推理-信令分析",
          "逻辑推理-因果推理-投诉穿刺"
         ],
         "y": [
          20.535714285714285,
          58.92857142857143,
          16.964285714285715,
          96.42857142857143,
          0.8928571428571428,
          91.96428571428571,
          93.85964912280701,
          94.73684210526315,
          37.5,
          82.14285714285714,
          92.85714285714286,
          94.64285714285714,
          69.64285714285714,
          87.5,
          91.22807017543859,
          93.75,
          58.92857142857143
         ]
        },
        {
         "marker": {
          "color": "red"
         },
         "name": "Not Match",
         "type": "bar",
         "x": [
          "代码/MML生成-NL2MML-配置助理",
          "任务规划-任务分解-告警助理",
          "工具使用-工具选择-告警助理",
          "工具使用-工具选择-故障诊断",
          "数学计算-四则运算-告警助理",
          "文本生成-复合指令的文本改写-配置助理",
          "文本生成-文本改写-其他",
          "格式遵从-结构化生成-告警助理",
          "语义理解-信息抽取-告警助理",
          "语义理解-信息抽取-投诉助理",
          "语义理解-信息抽取-配置助理",
          "语义理解-摘要总结-告警助理",
          "语义理解-文本分类-投诉助理",
          "语义理解-阅读理解-告警助理",
          "语义理解-阅读理解-配置助理",
          "逻辑推理-因果推理-信令分析",
          "逻辑推理-因果推理-投诉穿刺"
         ],
         "y": [
          51.78571428571429,
          29.464285714285715,
          20.535714285714285,
          3.571428571428571,
          2.6785714285714284,
          3.571428571428571,
          5.263157894736842,
          4.385964912280701,
          61.60714285714286,
          16.964285714285715,
          7.142857142857142,
          5.357142857142857,
          28.57142857142857,
          12.5,
          8.771929824561402,
          5.357142857142857,
          41.07142857142857
         ]
        },
        {
         "marker": {
          "color": "blue"
         },
         "name": "Parse Error",
         "type": "bar",
         "x": [
          "代码/MML生成-NL2MML-配置助理",
          "任务规划-任务分解-告警助理",
          "工具使用-工具选择-告警助理",
          "工具使用-工具选择-故障诊断",
          "数学计算-四则运算-告警助理",
          "文本生成-复合指令的文本改写-配置助理",
          "文本生成-文本改写-其他",
          "格式遵从-结构化生成-告警助理",
          "语义理解-信息抽取-告警助理",
          "语义理解-信息抽取-投诉助理",
          "语义理解-信息抽取-配置助理",
          "语义理解-摘要总结-告警助理",
          "语义理解-文本分类-投诉助理",
          "语义理解-阅读理解-告警助理",
          "语义理解-阅读理解-配置助理",
          "逻辑推理-因果推理-信令分析",
          "逻辑推理-因果推理-投诉穿刺"
         ],
         "y": [
          0,
          1.7857142857142856,
          0,
          0,
          0,
          0,
          0.8771929824561403,
          0.8771929824561403,
          0,
          0.8928571428571428,
          0,
          0,
          0,
          0,
          0,
          0.8928571428571428,
          0
         ]
        },
        {
         "marker": {
          "color": "gray"
         },
         "name": "Reject",
         "type": "bar",
         "x": [
          "代码/MML生成-NL2MML-配置助理",
          "任务规划-任务分解-告警助理",
          "工具使用-工具选择-告警助理",
          "工具使用-工具选择-故障诊断",
          "数学计算-四则运算-告警助理",
          "文本生成-复合指令的文本改写-配置助理",
          "文本生成-文本改写-其他",
          "格式遵从-结构化生成-告警助理",
          "语义理解-信息抽取-告警助理",
          "语义理解-信息抽取-投诉助理",
          "语义理解-信息抽取-配置助理",
          "语义理解-摘要总结-告警助理",
          "语义理解-文本分类-投诉助理",
          "语义理解-阅读理解-告警助理",
          "语义理解-阅读理解-配置助理",
          "逻辑推理-因果推理-信令分析",
          "逻辑推理-因果推理-投诉穿刺"
         ],
         "y": [
          27.67857142857143,
          9.821428571428571,
          62.5,
          0,
          96.42857142857143,
          4.464285714285714,
          0,
          0,
          0.8928571428571428,
          0,
          0,
          0,
          1.7857142857142856,
          0,
          0,
          0,
          0
         ]
        }
       ],
       "layout": {
        "barmode": "stack",
        "template": {
         "data": {
          "bar": [
           {
            "error_x": {
             "color": "#2a3f5f"
            },
            "error_y": {
             "color": "#2a3f5f"
            },
            "marker": {
             "line": {
              "color": "#E5ECF6",
              "width": 0.5
             },
             "pattern": {
              "fillmode": "overlay",
              "size": 10,
              "solidity": 0.2
             }
            },
            "type": "bar"
           }
          ],
          "barpolar": [
           {
            "marker": {
             "line": {
              "color": "#E5ECF6",
              "width": 0.5
             },
             "pattern": {
              "fillmode": "overlay",
              "size": 10,
              "solidity": 0.2
             }
            },
            "type": "barpolar"
           }
          ],
          "carpet": [
           {
            "aaxis": {
             "endlinecolor": "#2a3f5f",
             "gridcolor": "white",
             "linecolor": "white",
             "minorgridcolor": "white",
             "startlinecolor": "#2a3f5f"
            },
            "baxis": {
             "endlinecolor": "#2a3f5f",
             "gridcolor": "white",
             "linecolor": "white",
             "minorgridcolor": "white",
             "startlinecolor": "#2a3f5f"
            },
            "type": "carpet"
           }
          ],
          "choropleth": [
           {
            "colorbar": {
             "outlinewidth": 0,
             "ticks": ""
            },
            "type": "choropleth"
           }
          ],
          "contour": [
           {
            "colorbar": {
             "outlinewidth": 0,
             "ticks": ""
            },
            "colorscale": [
             [
              0,
              "#0d0887"
             ],
             [
              0.1111111111111111,
              "#46039f"
             ],
             [
              0.2222222222222222,
              "#7201a8"
             ],
             [
              0.3333333333333333,
              "#9c179e"
             ],
             [
              0.4444444444444444,
              "#bd3786"
             ],
             [
              0.5555555555555556,
              "#d8576b"
             ],
             [
              0.6666666666666666,
              "#ed7953"
             ],
             [
              0.7777777777777778,
              "#fb9f3a"
             ],
             [
              0.8888888888888888,
              "#fdca26"
             ],
             [
              1,
              "#f0f921"
             ]
            ],
            "type": "contour"
           }
          ],
          "contourcarpet": [
           {
            "colorbar": {
             "outlinewidth": 0,
             "ticks": ""
            },
            "type": "contourcarpet"
           }
          ],
          "heatmap": [
           {
            "colorbar": {
             "outlinewidth": 0,
             "ticks": ""
            },
            "colorscale": [
             [
              0,
              "#0d0887"
             ],
             [
              0.1111111111111111,
              "#46039f"
             ],
             [
              0.2222222222222222,
              "#7201a8"
             ],
             [
              0.3333333333333333,
              "#9c179e"
             ],
             [
              0.4444444444444444,
              "#bd3786"
             ],
             [
              0.5555555555555556,
              "#d8576b"
             ],
             [
              0.6666666666666666,
              "#ed7953"
             ],
             [
              0.7777777777777778,
              "#fb9f3a"
             ],
             [
              0.8888888888888888,
              "#fdca26"
             ],
             [
              1,
              "#f0f921"
             ]
            ],
            "type": "heatmap"
           }
          ],
          "heatmapgl": [
           {
            "colorbar": {
             "outlinewidth": 0,
             "ticks": ""
            },
            "colorscale": [
             [
              0,
              "#0d0887"
             ],
             [
              0.1111111111111111,
              "#46039f"
             ],
             [
              0.2222222222222222,
              "#7201a8"
             ],
             [
              0.3333333333333333,
              "#9c179e"
             ],
             [
              0.4444444444444444,
              "#bd3786"
             ],
             [
              0.5555555555555556,
              "#d8576b"
             ],
             [
              0.6666666666666666,
              "#ed7953"
             ],
             [
              0.7777777777777778,
              "#fb9f3a"
             ],
             [
              0.8888888888888888,
              "#fdca26"
             ],
             [
              1,
              "#f0f921"
             ]
            ],
            "type": "heatmapgl"
           }
          ],
          "histogram": [
           {
            "marker": {
             "pattern": {
              "fillmode": "overlay",
              "size": 10,
              "solidity": 0.2
             }
            },
            "type": "histogram"
           }
          ],
          "histogram2d": [
           {
            "colorbar": {
             "outlinewidth": 0,
             "ticks": ""
            },
            "colorscale": [
             [
              0,
              "#0d0887"
             ],
             [
              0.1111111111111111,
              "#46039f"
             ],
             [
              0.2222222222222222,
              "#7201a8"
             ],
             [
              0.3333333333333333,
              "#9c179e"
             ],
             [
              0.4444444444444444,
              "#bd3786"
             ],
             [
              0.5555555555555556,
              "#d8576b"
             ],
             [
              0.6666666666666666,
              "#ed7953"
             ],
             [
              0.7777777777777778,
              "#fb9f3a"
             ],
             [
              0.8888888888888888,
              "#fdca26"
             ],
             [
              1,
              "#f0f921"
             ]
            ],
            "type": "histogram2d"
           }
          ],
          "histogram2dcontour": [
           {
            "colorbar": {
             "outlinewidth": 0,
             "ticks": ""
            },
            "colorscale": [
             [
              0,
              "#0d0887"
             ],
             [
              0.1111111111111111,
              "#46039f"
             ],
             [
              0.2222222222222222,
              "#7201a8"
             ],
             [
              0.3333333333333333,
              "#9c179e"
             ],
             [
              0.4444444444444444,
              "#bd3786"
             ],
             [
              0.5555555555555556,
              "#d8576b"
             ],
             [
              0.6666666666666666,
              "#ed7953"
             ],
             [
              0.7777777777777778,
              "#fb9f3a"
             ],
             [
              0.8888888888888888,
              "#fdca26"
             ],
             [
              1,
              "#f0f921"
             ]
            ],
            "type": "histogram2dcontour"
           }
          ],
          "mesh3d": [
           {
            "colorbar": {
             "outlinewidth": 0,
             "ticks": ""
            },
            "type": "mesh3d"
           }
          ],
          "parcoords": [
           {
            "line": {
             "colorbar": {
              "outlinewidth": 0,
              "ticks": ""
             }
            },
            "type": "parcoords"
           }
          ],
          "pie": [
           {
            "automargin": true,
            "type": "pie"
           }
          ],
          "scatter": [
           {
            "fillpattern": {
             "fillmode": "overlay",
             "size": 10,
             "solidity": 0.2
            },
            "type": "scatter"
           }
          ],
          "scatter3d": [
           {
            "line": {
             "colorbar": {
              "outlinewidth": 0,
              "ticks": ""
             }
            },
            "marker": {
             "colorbar": {
              "outlinewidth": 0,
              "ticks": ""
             }
            },
            "type": "scatter3d"
           }
          ],
          "scattercarpet": [
           {
            "marker": {
             "colorbar": {
              "outlinewidth": 0,
              "ticks": ""
             }
            },
            "type": "scattercarpet"
           }
          ],
          "scattergeo": [
           {
            "marker": {
             "colorbar": {
              "outlinewidth": 0,
              "ticks": ""
             }
            },
            "type": "scattergeo"
           }
          ],
          "scattergl": [
           {
            "marker": {
             "colorbar": {
              "outlinewidth": 0,
              "ticks": ""
             }
            },
            "type": "scattergl"
           }
          ],
          "scattermapbox": [
           {
            "marker": {
             "colorbar": {
              "outlinewidth": 0,
              "ticks": ""
             }
            },
            "type": "scattermapbox"
           }
          ],
          "scatterpolar": [
           {
            "marker": {
             "colorbar": {
              "outlinewidth": 0,
              "ticks": ""
             }
            },
            "type": "scatterpolar"
           }
          ],
          "scatterpolargl": [
           {
            "marker": {
             "colorbar": {
              "outlinewidth": 0,
              "ticks": ""
             }
            },
            "type": "scatterpolargl"
           }
          ],
          "scatterternary": [
           {
            "marker": {
             "colorbar": {
              "outlinewidth": 0,
              "ticks": ""
             }
            },
            "type": "scatterternary"
           }
          ],
          "surface": [
           {
            "colorbar": {
             "outlinewidth": 0,
             "ticks": ""
            },
            "colorscale": [
             [
              0,
              "#0d0887"
             ],
             [
              0.1111111111111111,
              "#46039f"
             ],
             [
              0.2222222222222222,
              "#7201a8"
             ],
             [
              0.3333333333333333,
              "#9c179e"
             ],
             [
              0.4444444444444444,
              "#bd3786"
             ],
             [
              0.5555555555555556,
              "#d8576b"
             ],
             [
              0.6666666666666666,
              "#ed7953"
             ],
             [
              0.7777777777777778,
              "#fb9f3a"
             ],
             [
              0.8888888888888888,
              "#fdca26"
             ],
             [
              1,
              "#f0f921"
             ]
            ],
            "type": "surface"
           }
          ],
          "table": [
           {
            "cells": {
             "fill": {
              "color": "#EBF0F8"
             },
             "line": {
              "color": "white"
             }
            },
            "header": {
             "fill": {
              "color": "#C8D4E3"
             },
             "line": {
              "color": "white"
             }
            },
            "type": "table"
           }
          ]
         },
         "layout": {
          "annotationdefaults": {
           "arrowcolor": "#2a3f5f",
           "arrowhead": 0,
           "arrowwidth": 1
          },
          "autotypenumbers": "strict",
          "coloraxis": {
           "colorbar": {
            "outlinewidth": 0,
            "ticks": ""
           }
          },
          "colorscale": {
           "diverging": [
            [
             0,
             "#8e0152"
            ],
            [
             0.1,
             "#c51b7d"
            ],
            [
             0.2,
             "#de77ae"
            ],
            [
             0.3,
             "#f1b6da"
            ],
            [
             0.4,
             "#fde0ef"
            ],
            [
             0.5,
             "#f7f7f7"
            ],
            [
             0.6,
             "#e6f5d0"
            ],
            [
             0.7,
             "#b8e186"
            ],
            [
             0.8,
             "#7fbc41"
            ],
            [
             0.9,
             "#4d9221"
            ],
            [
             1,
             "#276419"
            ]
           ],
           "sequential": [
            [
             0,
             "#0d0887"
            ],
            [
             0.1111111111111111,
             "#46039f"
            ],
            [
             0.2222222222222222,
             "#7201a8"
            ],
            [
             0.3333333333333333,
             "#9c179e"
            ],
            [
             0.4444444444444444,
             "#bd3786"
            ],
            [
             0.5555555555555556,
             "#d8576b"
            ],
            [
             0.6666666666666666,
             "#ed7953"
            ],
            [
             0.7777777777777778,
             "#fb9f3a"
            ],
            [
             0.8888888888888888,
             "#fdca26"
            ],
            [
             1,
             "#f0f921"
            ]
           ],
           "sequentialminus": [
            [
             0,
             "#0d0887"
            ],
            [
             0.1111111111111111,
             "#46039f"
            ],
            [
             0.2222222222222222,
             "#7201a8"
            ],
            [
             0.3333333333333333,
             "#9c179e"
            ],
            [
             0.4444444444444444,
             "#bd3786"
            ],
            [
             0.5555555555555556,
             "#d8576b"
            ],
            [
             0.6666666666666666,
             "#ed7953"
            ],
            [
             0.7777777777777778,
             "#fb9f3a"
            ],
            [
             0.8888888888888888,
             "#fdca26"
            ],
            [
             1,
             "#f0f921"
            ]
           ]
          },
          "colorway": [
           "#636efa",
           "#EF553B",
           "#00cc96",
           "#ab63fa",
           "#FFA15A",
           "#19d3f3",
           "#FF6692",
           "#B6E880",
           "#FF97FF",
           "#FECB52"
          ],
          "font": {
           "color": "#2a3f5f"
          },
          "geo": {
           "bgcolor": "white",
           "lakecolor": "white",
           "landcolor": "#E5ECF6",
           "showlakes": true,
           "showland": true,
           "subunitcolor": "white"
          },
          "hoverlabel": {
           "align": "left"
          },
          "hovermode": "closest",
          "mapbox": {
           "style": "light"
          },
          "paper_bgcolor": "white",
          "plot_bgcolor": "#E5ECF6",
          "polar": {
           "angularaxis": {
            "gridcolor": "white",
            "linecolor": "white",
            "ticks": ""
           },
           "bgcolor": "#E5ECF6",
           "radialaxis": {
            "gridcolor": "white",
            "linecolor": "white",
            "ticks": ""
           }
          },
          "scene": {
           "xaxis": {
            "backgroundcolor": "#E5ECF6",
            "gridcolor": "white",
            "gridwidth": 2,
            "linecolor": "white",
            "showbackground": true,
            "ticks": "",
            "zerolinecolor": "white"
           },
           "yaxis": {
            "backgroundcolor": "#E5ECF6",
            "gridcolor": "white",
            "gridwidth": 2,
            "linecolor": "white",
            "showbackground": true,
            "ticks": "",
            "zerolinecolor": "white"
           },
           "zaxis": {
            "backgroundcolor": "#E5ECF6",
            "gridcolor": "white",
            "gridwidth": 2,
            "linecolor": "white",
            "showbackground": true,
            "ticks": "",
            "zerolinecolor": "white"
           }
          },
          "shapedefaults": {
           "line": {
            "color": "#2a3f5f"
           }
          },
          "ternary": {
           "aaxis": {
            "gridcolor": "white",
            "linecolor": "white",
            "ticks": ""
           },
           "baxis": {
            "gridcolor": "white",
            "linecolor": "white",
            "ticks": ""
           },
           "bgcolor": "#E5ECF6",
           "caxis": {
            "gridcolor": "white",
            "linecolor": "white",
            "ticks": ""
           }
          },
          "title": {
           "x": 0.05
          },
          "xaxis": {
           "automargin": true,
           "gridcolor": "white",
           "linecolor": "white",
           "ticks": "",
           "title": {
            "standoff": 15
           },
           "zerolinecolor": "white",
           "zerolinewidth": 2
          },
          "yaxis": {
           "automargin": true,
           "gridcolor": "white",
           "linecolor": "white",
           "ticks": "",
           "title": {
            "standoff": 15
           },
           "zerolinecolor": "white",
           "zerolinewidth": 2
          }
         }
        }
       }
      },
      "text/html": [
       "<div>                            <div id=\"88894221-c2f0-4841-90c6-a1d70f71eaa2\" class=\"plotly-graph-div\" style=\"height:525px; width:100%;\"></div>            <script type=\"text/javascript\">                require([\"plotly\"], function(Plotly) {                    window.PLOTLYENV=window.PLOTLYENV || {};                                    if (document.getElementById(\"88894221-c2f0-4841-90c6-a1d70f71eaa2\")) {                    Plotly.newPlot(                        \"88894221-c2f0-4841-90c6-a1d70f71eaa2\",                        [{\"marker\":{\"color\":\"green\"},\"name\":\"OK\",\"x\":[\"代码\\u002fMML生成-NL2MML-配置助理\",\"任务规划-任务分解-告警助理\",\"工具使用-工具选择-告警助理\",\"工具使用-工具选择-故障诊断\",\"数学计算-四则运算-告警助理\",\"文本生成-复合指令的文本改写-配置助理\",\"文本生成-文本改写-其他\",\"格式遵从-结构化生成-告警助理\",\"语义理解-信息抽取-告警助理\",\"语义理解-信息抽取-投诉助理\",\"语义理解-信息抽取-配置助理\",\"语义理解-摘要总结-告警助理\",\"语义理解-文本分类-投诉助理\",\"语义理解-阅读理解-告警助理\",\"语义理解-阅读理解-配置助理\",\"逻辑推理-因果推理-信令分析\",\"逻辑推理-因果推理-投诉穿刺\"],\"y\":[20.535714285714285,58.92857142857143,16.964285714285715,96.42857142857143,0.8928571428571428,91.96428571428571,93.85964912280701,94.73684210526315,37.5,82.14285714285714,92.85714285714286,94.64285714285714,69.64285714285714,87.5,91.22807017543859,93.75,58.92857142857143],\"type\":\"bar\"},{\"marker\":{\"color\":\"red\"},\"name\":\"Not Match\",\"x\":[\"代码\\u002fMML生成-NL2MML-配置助理\",\"任务规划-任务分解-告警助理\",\"工具使用-工具选择-告警助理\",\"工具使用-工具选择-故障诊断\",\"数学计算-四则运算-告警助理\",\"文本生成-复合指令的文本改写-配置助理\",\"文本生成-文本改写-其他\",\"格式遵从-结构化生成-告警助理\",\"语义理解-信息抽取-告警助理\",\"语义理解-信息抽取-投诉助理\",\"语义理解-信息抽取-配置助理\",\"语义理解-摘要总结-告警助理\",\"语义理解-文本分类-投诉助理\",\"语义理解-阅读理解-告警助理\",\"语义理解-阅读理解-配置助理\",\"逻辑推理-因果推理-信令分析\",\"逻辑推理-因果推理-投诉穿刺\"],\"y\":[51.78571428571429,29.464285714285715,20.535714285714285,3.571428571428571,2.6785714285714284,3.571428571428571,5.263157894736842,4.385964912280701,61.60714285714286,16.964285714285715,7.142857142857142,5.357142857142857,28.57142857142857,12.5,8.771929824561402,5.357142857142857,41.07142857142857],\"type\":\"bar\"},{\"marker\":{\"color\":\"blue\"},\"name\":\"Parse Error\",\"x\":[\"代码\\u002fMML生成-NL2MML-配置助理\",\"任务规划-任务分解-告警助理\",\"工具使用-工具选择-告警助理\",\"工具使用-工具选择-故障诊断\",\"数学计算-四则运算-告警助理\",\"文本生成-复合指令的文本改写-配置助理\",\"文本生成-文本改写-其他\",\"格式遵从-结构化生成-告警助理\",\"语义理解-信息抽取-告警助理\",\"语义理解-信息抽取-投诉助理\",\"语义理解-信息抽取-配置助理\",\"语义理解-摘要总结-告警助理\",\"语义理解-文本分类-投诉助理\",\"语义理解-阅读理解-告警助理\",\"语义理解-阅读理解-配置助理\",\"逻辑推理-因果推理-信令分析\",\"逻辑推理-因果推理-投诉穿刺\"],\"y\":[0.0,1.7857142857142856,0.0,0.0,0.0,0.0,0.8771929824561403,0.8771929824561403,0.0,0.8928571428571428,0.0,0.0,0.0,0.0,0.0,0.8928571428571428,0.0],\"type\":\"bar\"},{\"marker\":{\"color\":\"gray\"},\"name\":\"Reject\",\"x\":[\"代码\\u002fMML生成-NL2MML-配置助理\",\"任务规划-任务分解-告警助理\",\"工具使用-工具选择-告警助理\",\"工具使用-工具选择-故障诊断\",\"数学计算-四则运算-告警助理\",\"文本生成-复合指令的文本改写-配置助理\",\"文本生成-文本改写-其他\",\"格式遵从-结构化生成-告警助理\",\"语义理解-信息抽取-告警助理\",\"语义理解-信息抽取-投诉助理\",\"语义理解-信息抽取-配置助理\",\"语义理解-摘要总结-告警助理\",\"语义理解-文本分类-投诉助理\",\"语义理解-阅读理解-告警助理\",\"语义理解-阅读理解-配置助理\",\"逻辑推理-因果推理-信令分析\",\"逻辑推理-因果推理-投诉穿刺\"],\"y\":[27.67857142857143,9.821428571428571,62.5,0.0,96.42857142857143,4.464285714285714,0.0,0.0,0.8928571428571428,0.0,0.0,0.0,1.7857142857142856,0.0,0.0,0.0,0.0],\"type\":\"bar\"}],                        {\"template\":{\"data\":{\"histogram2dcontour\":[{\"type\":\"histogram2dcontour\",\"colorbar\":{\"outlinewidth\":0,\"ticks\":\"\"},\"colorscale\":[[0.0,\"#0d0887\"],[0.1111111111111111,\"#46039f\"],[0.2222222222222222,\"#7201a8\"],[0.3333333333333333,\"#9c179e\"],[0.4444444444444444,\"#bd3786\"],[0.5555555555555556,\"#d8576b\"],[0.6666666666666666,\"#ed7953\"],[0.7777777777777778,\"#fb9f3a\"],[0.8888888888888888,\"#fdca26\"],[1.0,\"#f0f921\"]]}],\"choropleth\":[{\"type\":\"choropleth\",\"colorbar\":{\"outlinewidth\":0,\"ticks\":\"\"}}],\"histogram2d\":[{\"type\":\"histogram2d\",\"colorbar\":{\"outlinewidth\":0,\"ticks\":\"\"},\"colorscale\":[[0.0,\"#0d0887\"],[0.1111111111111111,\"#46039f\"],[0.2222222222222222,\"#7201a8\"],[0.3333333333333333,\"#9c179e\"],[0.4444444444444444,\"#bd3786\"],[0.5555555555555556,\"#d8576b\"],[0.6666666666666666,\"#ed7953\"],[0.7777777777777778,\"#fb9f3a\"],[0.8888888888888888,\"#fdca26\"],[1.0,\"#f0f921\"]]}],\"heatmap\":[{\"type\":\"heatmap\",\"colorbar\":{\"outlinewidth\":0,\"ticks\":\"\"},\"colorscale\":[[0.0,\"#0d0887\"],[0.1111111111111111,\"#46039f\"],[0.2222222222222222,\"#7201a8\"],[0.3333333333333333,\"#9c179e\"],[0.4444444444444444,\"#bd3786\"],[0.5555555555555556,\"#d8576b\"],[0.6666666666666666,\"#ed7953\"],[0.7777777777777778,\"#fb9f3a\"],[0.8888888888888888,\"#fdca26\"],[1.0,\"#f0f921\"]]}],\"heatmapgl\":[{\"type\":\"heatmapgl\",\"colorbar\":{\"outlinewidth\":0,\"ticks\":\"\"},\"colorscale\":[[0.0,\"#0d0887\"],[0.1111111111111111,\"#46039f\"],[0.2222222222222222,\"#7201a8\"],[0.3333333333333333,\"#9c179e\"],[0.4444444444444444,\"#bd3786\"],[0.5555555555555556,\"#d8576b\"],[0.6666666666666666,\"#ed7953\"],[0.7777777777777778,\"#fb9f3a\"],[0.8888888888888888,\"#fdca26\"],[1.0,\"#f0f921\"]]}],\"contourcarpet\":[{\"type\":\"contourcarpet\",\"colorbar\":{\"outlinewidth\":0,\"ticks\":\"\"}}],\"contour\":[{\"type\":\"contour\",\"colorbar\":{\"outlinewidth\":0,\"ticks\":\"\"},\"colorscale\":[[0.0,\"#0d0887\"],[0.1111111111111111,\"#46039f\"],[0.2222222222222222,\"#7201a8\"],[0.3333333333333333,\"#9c179e\"],[0.4444444444444444,\"#bd3786\"],[0.5555555555555556,\"#d8576b\"],[0.6666666666666666,\"#ed7953\"],[0.7777777777777778,\"#fb9f3a\"],[0.8888888888888888,\"#fdca26\"],[1.0,\"#f0f921\"]]}],\"surface\":[{\"type\":\"surface\",\"colorbar\":{\"outlinewidth\":0,\"ticks\":\"\"},\"colorscale\":[[0.0,\"#0d0887\"],[0.1111111111111111,\"#46039f\"],[0.2222222222222222,\"#7201a8\"],[0.3333333333333333,\"#9c179e\"],[0.4444444444444444,\"#bd3786\"],[0.5555555555555556,\"#d8576b\"],[0.6666666666666666,\"#ed7953\"],[0.7777777777777778,\"#fb9f3a\"],[0.8888888888888888,\"#fdca26\"],[1.0,\"#f0f921\"]]}],\"mesh3d\":[{\"type\":\"mesh3d\",\"colorbar\":{\"outlinewidth\":0,\"ticks\":\"\"}}],\"scatter\":[{\"fillpattern\":{\"fillmode\":\"overlay\",\"size\":10,\"solidity\":0.2},\"type\":\"scatter\"}],\"parcoords\":[{\"type\":\"parcoords\",\"line\":{\"colorbar\":{\"outlinewidth\":0,\"ticks\":\"\"}}}],\"scatterpolargl\":[{\"type\":\"scatterpolargl\",\"marker\":{\"colorbar\":{\"outlinewidth\":0,\"ticks\":\"\"}}}],\"bar\":[{\"error_x\":{\"color\":\"#2a3f5f\"},\"error_y\":{\"color\":\"#2a3f5f\"},\"marker\":{\"line\":{\"color\":\"#E5ECF6\",\"width\":0.5},\"pattern\":{\"fillmode\":\"overlay\",\"size\":10,\"solidity\":0.2}},\"type\":\"bar\"}],\"scattergeo\":[{\"type\":\"scattergeo\",\"marker\":{\"colorbar\":{\"outlinewidth\":0,\"ticks\":\"\"}}}],\"scatterpolar\":[{\"type\":\"scatterpolar\",\"marker\":{\"colorbar\":{\"outlinewidth\":0,\"ticks\":\"\"}}}],\"histogram\":[{\"marker\":{\"pattern\":{\"fillmode\":\"overlay\",\"size\":10,\"solidity\":0.2}},\"type\":\"histogram\"}],\"scattergl\":[{\"type\":\"scattergl\",\"marker\":{\"colorbar\":{\"outlinewidth\":0,\"ticks\":\"\"}}}],\"scatter3d\":[{\"type\":\"scatter3d\",\"line\":{\"colorbar\":{\"outlinewidth\":0,\"ticks\":\"\"}},\"marker\":{\"colorbar\":{\"outlinewidth\":0,\"ticks\":\"\"}}}],\"scattermapbox\":[{\"type\":\"scattermapbox\",\"marker\":{\"colorbar\":{\"outlinewidth\":0,\"ticks\":\"\"}}}],\"scatterternary\":[{\"type\":\"scatterternary\",\"marker\":{\"colorbar\":{\"outlinewidth\":0,\"ticks\":\"\"}}}],\"scattercarpet\":[{\"type\":\"scattercarpet\",\"marker\":{\"colorbar\":{\"outlinewidth\":0,\"ticks\":\"\"}}}],\"carpet\":[{\"aaxis\":{\"endlinecolor\":\"#2a3f5f\",\"gridcolor\":\"white\",\"linecolor\":\"white\",\"minorgridcolor\":\"white\",\"startlinecolor\":\"#2a3f5f\"},\"baxis\":{\"endlinecolor\":\"#2a3f5f\",\"gridcolor\":\"white\",\"linecolor\":\"white\",\"minorgridcolor\":\"white\",\"startlinecolor\":\"#2a3f5f\"},\"type\":\"carpet\"}],\"table\":[{\"cells\":{\"fill\":{\"color\":\"#EBF0F8\"},\"line\":{\"color\":\"white\"}},\"header\":{\"fill\":{\"color\":\"#C8D4E3\"},\"line\":{\"color\":\"white\"}},\"type\":\"table\"}],\"barpolar\":[{\"marker\":{\"line\":{\"color\":\"#E5ECF6\",\"width\":0.5},\"pattern\":{\"fillmode\":\"overlay\",\"size\":10,\"solidity\":0.2}},\"type\":\"barpolar\"}],\"pie\":[{\"automargin\":true,\"type\":\"pie\"}]},\"layout\":{\"autotypenumbers\":\"strict\",\"colorway\":[\"#636efa\",\"#EF553B\",\"#00cc96\",\"#ab63fa\",\"#FFA15A\",\"#19d3f3\",\"#FF6692\",\"#B6E880\",\"#FF97FF\",\"#FECB52\"],\"font\":{\"color\":\"#2a3f5f\"},\"hovermode\":\"closest\",\"hoverlabel\":{\"align\":\"left\"},\"paper_bgcolor\":\"white\",\"plot_bgcolor\":\"#E5ECF6\",\"polar\":{\"bgcolor\":\"#E5ECF6\",\"angularaxis\":{\"gridcolor\":\"white\",\"linecolor\":\"white\",\"ticks\":\"\"},\"radialaxis\":{\"gridcolor\":\"white\",\"linecolor\":\"white\",\"ticks\":\"\"}},\"ternary\":{\"bgcolor\":\"#E5ECF6\",\"aaxis\":{\"gridcolor\":\"white\",\"linecolor\":\"white\",\"ticks\":\"\"},\"baxis\":{\"gridcolor\":\"white\",\"linecolor\":\"white\",\"ticks\":\"\"},\"caxis\":{\"gridcolor\":\"white\",\"linecolor\":\"white\",\"ticks\":\"\"}},\"coloraxis\":{\"colorbar\":{\"outlinewidth\":0,\"ticks\":\"\"}},\"colorscale\":{\"sequential\":[[0.0,\"#0d0887\"],[0.1111111111111111,\"#46039f\"],[0.2222222222222222,\"#7201a8\"],[0.3333333333333333,\"#9c179e\"],[0.4444444444444444,\"#bd3786\"],[0.5555555555555556,\"#d8576b\"],[0.6666666666666666,\"#ed7953\"],[0.7777777777777778,\"#fb9f3a\"],[0.8888888888888888,\"#fdca26\"],[1.0,\"#f0f921\"]],\"sequentialminus\":[[0.0,\"#0d0887\"],[0.1111111111111111,\"#46039f\"],[0.2222222222222222,\"#7201a8\"],[0.3333333333333333,\"#9c179e\"],[0.4444444444444444,\"#bd3786\"],[0.5555555555555556,\"#d8576b\"],[0.6666666666666666,\"#ed7953\"],[0.7777777777777778,\"#fb9f3a\"],[0.8888888888888888,\"#fdca26\"],[1.0,\"#f0f921\"]],\"diverging\":[[0,\"#8e0152\"],[0.1,\"#c51b7d\"],[0.2,\"#de77ae\"],[0.3,\"#f1b6da\"],[0.4,\"#fde0ef\"],[0.5,\"#f7f7f7\"],[0.6,\"#e6f5d0\"],[0.7,\"#b8e186\"],[0.8,\"#7fbc41\"],[0.9,\"#4d9221\"],[1,\"#276419\"]]},\"xaxis\":{\"gridcolor\":\"white\",\"linecolor\":\"white\",\"ticks\":\"\",\"title\":{\"standoff\":15},\"zerolinecolor\":\"white\",\"automargin\":true,\"zerolinewidth\":2},\"yaxis\":{\"gridcolor\":\"white\",\"linecolor\":\"white\",\"ticks\":\"\",\"title\":{\"standoff\":15},\"zerolinecolor\":\"white\",\"automargin\":true,\"zerolinewidth\":2},\"scene\":{\"xaxis\":{\"backgroundcolor\":\"#E5ECF6\",\"gridcolor\":\"white\",\"linecolor\":\"white\",\"showbackground\":true,\"ticks\":\"\",\"zerolinecolor\":\"white\",\"gridwidth\":2},\"yaxis\":{\"backgroundcolor\":\"#E5ECF6\",\"gridcolor\":\"white\",\"linecolor\":\"white\",\"showbackground\":true,\"ticks\":\"\",\"zerolinecolor\":\"white\",\"gridwidth\":2},\"zaxis\":{\"backgroundcolor\":\"#E5ECF6\",\"gridcolor\":\"white\",\"linecolor\":\"white\",\"showbackground\":true,\"ticks\":\"\",\"zerolinecolor\":\"white\",\"gridwidth\":2}},\"shapedefaults\":{\"line\":{\"color\":\"#2a3f5f\"}},\"annotationdefaults\":{\"arrowcolor\":\"#2a3f5f\",\"arrowhead\":0,\"arrowwidth\":1},\"geo\":{\"bgcolor\":\"white\",\"landcolor\":\"#E5ECF6\",\"subunitcolor\":\"white\",\"showland\":true,\"showlakes\":true,\"lakecolor\":\"white\"},\"title\":{\"x\":0.05},\"mapbox\":{\"style\":\"light\"}}},\"barmode\":\"stack\"},                        {\"responsive\": true}                    ).then(function(){\n",
       "                            \n",
       "var gd = document.getElementById('88894221-c2f0-4841-90c6-a1d70f71eaa2');\n",
       "var x = new MutationObserver(function (mutations, observer) {{\n",
       "        var display = window.getComputedStyle(gd).display;\n",
       "        if (!display || display === 'none') {{\n",
       "            console.log([gd, 'removed!']);\n",
       "            Plotly.purge(gd);\n",
       "            observer.disconnect();\n",
       "        }}\n",
       "}});\n",
       "\n",
       "// Listen for the removal of the full notebook cells\n",
       "var notebookContainer = gd.closest('#notebook-container');\n",
       "if (notebookContainer) {{\n",
       "    x.observe(notebookContainer, {childList: true});\n",
       "}}\n",
       "\n",
       "// Listen for the clearing of the current output cell\n",
       "var outputEl = gd.closest('.output');\n",
       "if (outputEl) {{\n",
       "    x.observe(outputEl, {childList: true});\n",
       "}}\n",
       "\n",
       "                        })                };                });            </script>        </div>"
      ]
     },
     "metadata": {},
     "output_type": "display_data"
    }
   ],
   "source": [
    "\n",
    "# 统计每个name的情况\n",
    "df_statics = df_statics.groupby('name').sum()\n",
    "\n",
    "print(df_statics)\n",
    "\n",
    "name = df_statics.index\n",
    "print(name)\n",
    "\n",
    "reject = np.array(df_statics['reject'])\n",
    "parse_error = np.array(df_statics['parse_error'])\n",
    "not_match = np.array(df_statics['not_match'])\n",
    "ok = np.array(df_statics['ok'])\n",
    "\n",
    "totals = reject + parse_error + not_match + ok\n",
    "\n",
    "percent_reject = reject / totals * 100\n",
    "percent_parse_error = parse_error / totals * 100\n",
    "percent_not_match = not_match / totals * 100\n",
    "percent_ok = ok / totals * 100\n",
    "\n",
    "# 绘制百分比堆叠柱状图\n",
    "import plotly.graph_objects as go\n",
    "\n",
    "fig = go.Figure()\n",
    "\n",
    "fig.add_trace(go.Bar(\n",
    "    x=name,\n",
    "    y=percent_ok,\n",
    "    name='OK',\n",
    "    marker=dict(color='green')\n",
    "))\n",
    "\n",
    "fig.add_trace(go.Bar(\n",
    "    x=name,\n",
    "    y=percent_not_match,\n",
    "    name='Not Match',\n",
    "    marker=dict(color='red')\n",
    "))\n",
    "\n",
    "fig.add_trace(go.Bar(\n",
    "    x=name,\n",
    "    y=percent_parse_error,\n",
    "    name='Parse Error',\n",
    "    marker=dict(color='blue')\n",
    "))\n",
    "\n",
    "fig.add_trace(go.Bar(\n",
    "    x=name,\n",
    "    y=percent_reject,\n",
    "    name='Reject',\n",
    "    marker=dict(color='gray')\n",
    "))\n",
    "\n",
    "fig.update_layout(barmode='stack')\n",
    "\n",
    "fig.show()\n",
    "\n",
    "\n"
   ]
  },
  {
   "cell_type": "code",
   "execution_count": null,
   "metadata": {},
   "outputs": [],
   "source": [
    "\n",
    "# 统计每个name的情况\n",
    "df_statics = df_statics.groupby('name').sum()\n",
    "\n",
    "print(df_statics)\n",
    "\n",
    "name = df_statics.index\n",
    "print(name)\n",
    "\n",
    "reject = np.array(df_statics['reject'])\n",
    "parse_error = np.array(df_statics['parse_error'])\n",
    "not_match = np.array(df_statics['not_match'])\n",
    "ok = np.array(df_statics['ok'])\n",
    "\n",
    "totals = reject + parse_error + not_match + ok\n",
    "\n",
    "percent_reject = reject / totals * 100\n",
    "percent_parse_error = parse_error / totals * 100\n",
    "percent_not_match = not_match / totals * 100\n",
    "percent_ok = ok / totals * 100\n",
    "\n",
    "# 绘制百分比堆叠柱状图\n",
    "import plotly.graph_objects as go\n",
    "\n",
    "fig = go.Figure()\n",
    "\n",
    "fig.add_trace(go.Bar(\n",
    "    x=name,\n",
    "    y=percent_ok,\n",
    "    name='OK',\n",
    "    marker=dict(color='green')\n",
    "))\n",
    "\n",
    "fig.add_trace(go.Bar(\n",
    "    x=name,\n",
    "    y=percent_not_match,\n",
    "    name='Not Match',\n",
    "    marker=dict(color='red')\n",
    "))\n",
    "\n",
    "fig.add_trace(go.Bar(\n",
    "    x=name,\n",
    "    y=percent_parse_error,\n",
    "    name='Parse Error',\n",
    "    marker=dict(color='blue')\n",
    "))\n",
    "\n",
    "fig.add_trace(go.Bar(\n",
    "    x=name,\n",
    "    y=percent_reject,\n",
    "    name='Reject',\n",
    "    marker=dict(color='gray')\n",
    "))\n",
    "\n",
    "fig.update_layout(barmode='stack')\n",
    "\n",
    "fig.show()\n",
    "\n",
    "\n"
   ]
  }
 ],
 "metadata": {
  "kernelspec": {
   "display_name": "opencompass",
   "language": "python",
   "name": "python3"
  },
  "language_info": {
   "codemirror_mode": {
    "name": "ipython",
    "version": 3
   },
   "file_extension": ".py",
   "mimetype": "text/x-python",
   "name": "python",
   "nbconvert_exporter": "python",
   "pygments_lexer": "ipython3",
   "version": "3.10.13"
  }
 },
 "nbformat": 4,
 "nbformat_minor": 2
}
