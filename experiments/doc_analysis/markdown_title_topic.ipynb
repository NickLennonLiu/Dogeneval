{
 "cells": [
  {
   "cell_type": "code",
   "execution_count": 3,
   "metadata": {},
   "outputs": [],
   "source": [
    "import pandas as pd\n",
    "import os, json\n",
    "import markdown\n",
    "from dogeneval.utils.load_document import load_documents_and_contents\n"
   ]
  },
  {
   "cell_type": "code",
   "execution_count": null,
   "metadata": {},
   "outputs": [],
   "source": [
    "\n",
    "full_folder = \"/home/junetheriver/codes/qa_generation/huawei/data/UNC_20.9.5\"\n",
    "\n",
    "demo_folder = \"/home/junetheriver/codes/qa_generation/huawei/data/UNC_20.9.5/网络部署/安全配置/UNC安全配置/必选配置/数据安全配置\"\n",
    "\n",
    "documents = load_documents_and_contents(full_folder)"
   ]
  },
  {
   "cell_type": "code",
   "execution_count": 15,
   "metadata": {},
   "outputs": [
    {
     "name": "stderr",
     "output_type": "stream",
     "text": [
      "100%|██████████| 38484/38484 [02:19<00:00, 276.12it/s]\n"
     ]
    }
   ],
   "source": [
    "from tqdm import tqdm\n",
    "\n",
    "all_headings = []\n",
    "for doc in tqdm(documents):\n",
    "    html = markdown.markdown(doc['content'])\n",
    "    # 将html中的各级标题提取出来\n",
    "    from bs4 import BeautifulSoup\n",
    "    import re\n",
    "\n",
    "    soup = BeautifulSoup(html, 'html.parser')\n",
    "    \n",
    "    headers = []\n",
    "    for tag in soup.find_all(re.compile('^h[1-6]$')):\n",
    "        level = int(tag.name[1])\n",
    "        text = tag.get_text().strip()\n",
    "        headers.append((level, text))\n",
    "    \n",
    "    doc['headers'] = headers\n",
    "\n",
    "    all_headings.append(headers)"
   ]
  },
  {
   "cell_type": "code",
   "execution_count": 16,
   "metadata": {},
   "outputs": [],
   "source": [
    "with open('all_headings.json', 'w') as f:\n",
    "    json.dump(all_headings, f, indent=2, ensure_ascii=False)"
   ]
  },
  {
   "cell_type": "code",
   "execution_count": 4,
   "metadata": {},
   "outputs": [],
   "source": [
    "with open('all_headings.json', 'r') as f:\n",
    "    all_headings = json.load(f)"
   ]
  },
  {
   "cell_type": "code",
   "execution_count": 5,
   "metadata": {},
   "outputs": [
    {
     "data": {
      "text/plain": [
       "38484"
      ]
     },
     "execution_count": 5,
     "metadata": {},
     "output_type": "execute_result"
    }
   ],
   "source": [
    "all_headings = [' '.join([heading[1] for heading in headings]) for headings in all_headings]\n",
    "len(all_headings)"
   ]
  },
  {
   "cell_type": "code",
   "execution_count": 12,
   "metadata": {},
   "outputs": [
    {
     "data": {
      "text/plain": [
       "['配置跟踪和日志匿名化功能（通过OM Portal和软件参数） 操作场景 对系统的影响 必备事项 操作步骤 验证方法',\n",
       " '更新密钥 操作场景 对系统的影响 必备事项 操作步骤']"
      ]
     },
     "execution_count": 12,
     "metadata": {},
     "output_type": "execute_result"
    }
   ],
   "source": [
    "all_headings"
   ]
  },
  {
   "cell_type": "code",
   "execution_count": 6,
   "metadata": {},
   "outputs": [],
   "source": [
    "from sklearn.feature_extraction.text import TfidfVectorizer\n",
    "\n",
    "def vectorize_headers(headings):\n",
    "    vectorizer = TfidfVectorizer()\n",
    "    tfidf_matrix = vectorizer.fit_transform(headings)\n",
    "    return tfidf_matrix\n",
    "\n",
    "tfidf_matrix = vectorize_headers(all_headings)"
   ]
  },
  {
   "cell_type": "code",
   "execution_count": 14,
   "metadata": {},
   "outputs": [],
   "source": [
    "from sklearn.cluster import DBSCAN\n",
    "from sklearn.metrics.pairwise import cosine_distances\n",
    "\n",
    "def cluster_with_dbscan(tfidf_matrix, eps=0.5, min_samples=10):\n",
    "    \"\"\"\n",
    "    使用DBSCAN进行聚类。\n",
    "    \n",
    "    :param tfidf_matrix: 文档的TF-IDF矩阵\n",
    "    :param eps: DBSCAN中定义簇的邻域距离阈值\n",
    "    :param min_samples: 每个簇最小的样本数量\n",
    "    :return: 聚类标签 (-1表示噪声点)\n",
    "    \"\"\"\n",
    "    # 使用余弦距离来计算文本向量间的相似度\n",
    "    distance_matrix = cosine_distances(tfidf_matrix)\n",
    "    db = DBSCAN(eps=eps, min_samples=min_samples, metric='precomputed')\n",
    "    labels = db.fit_predict(distance_matrix)\n",
    "    return labels\n",
    "\n",
    "# 计算tfidf矩阵\n",
    "tfidf_matrix = vectorize_headers(all_headings)\n",
    "\n",
    "# 使用DBSCAN聚类\n",
    "labels = cluster_with_dbscan(tfidf_matrix)\n",
    "\n",
    "# 输出聚类结果\n",
    "# for heading, label in zip(all_headings, labels):\n",
    "#     print(f\"Heading: {heading}, Cluster: {label}\")"
   ]
  },
  {
   "cell_type": "code",
   "execution_count": 9,
   "metadata": {},
   "outputs": [
    {
     "data": {
      "text/plain": [
       "324"
      ]
     },
     "execution_count": 9,
     "metadata": {},
     "output_type": "execute_result"
    }
   ],
   "source": [
    "len(set(labels))"
   ]
  },
  {
   "cell_type": "code",
   "execution_count": 7,
   "metadata": {},
   "outputs": [
    {
     "ename": "NameError",
     "evalue": "name 'cosine_distances' is not defined",
     "output_type": "error",
     "traceback": [
      "\u001b[0;31m---------------------------------------------------------------------------\u001b[0m",
      "\u001b[0;31mNameError\u001b[0m                                 Traceback (most recent call last)",
      "Cell \u001b[0;32mIn[7], line 33\u001b[0m\n\u001b[1;32m     30\u001b[0m     \u001b[38;5;28;01mreturn\u001b[39;00m labels\n\u001b[1;32m     32\u001b[0m \u001b[38;5;66;03m# 使用层次聚类并展示树状图\u001b[39;00m\n\u001b[0;32m---> 33\u001b[0m labels \u001b[38;5;241m=\u001b[39m \u001b[43mcluster_with_hierarchical\u001b[49m\u001b[43m(\u001b[49m\u001b[43mtfidf_matrix\u001b[49m\u001b[43m,\u001b[49m\u001b[43m \u001b[49m\u001b[43mmax_d\u001b[49m\u001b[38;5;241;43m=\u001b[39;49m\u001b[38;5;241;43m1.5\u001b[39;49m\u001b[43m)\u001b[49m\n\u001b[1;32m     35\u001b[0m \u001b[38;5;66;03m# print(labels)\u001b[39;00m\n\u001b[1;32m     36\u001b[0m \n\u001b[1;32m     37\u001b[0m \u001b[38;5;66;03m# # 输出聚类结果\u001b[39;00m\n\u001b[1;32m     38\u001b[0m \u001b[38;5;66;03m# for heading, label in zip(all_headings, labels):\u001b[39;00m\n\u001b[1;32m     39\u001b[0m \u001b[38;5;66;03m#     print(f\"Heading: {heading}, Cluster: {label}\")\u001b[39;00m\n",
      "Cell \u001b[0;32mIn[7], line 15\u001b[0m, in \u001b[0;36mcluster_with_hierarchical\u001b[0;34m(tfidf_matrix, distance_metric, method, max_d)\u001b[0m\n\u001b[1;32m      5\u001b[0m \u001b[38;5;250m\u001b[39m\u001b[38;5;124;03m\"\"\"\u001b[39;00m\n\u001b[1;32m      6\u001b[0m \u001b[38;5;124;03m使用层次聚类进行聚类。\u001b[39;00m\n\u001b[1;32m      7\u001b[0m \u001b[38;5;124;03m\u001b[39;00m\n\u001b[0;32m   (...)\u001b[0m\n\u001b[1;32m     12\u001b[0m \u001b[38;5;124;03m:return: 聚类标签\u001b[39;00m\n\u001b[1;32m     13\u001b[0m \u001b[38;5;124;03m\"\"\"\u001b[39;00m\n\u001b[1;32m     14\u001b[0m \u001b[38;5;66;03m# 计算距离矩阵\u001b[39;00m\n\u001b[0;32m---> 15\u001b[0m distance_matrix \u001b[38;5;241m=\u001b[39m \u001b[43mcosine_distances\u001b[49m(tfidf_matrix)\n\u001b[1;32m     17\u001b[0m \u001b[38;5;66;03m# 进行层次聚类\u001b[39;00m\n\u001b[1;32m     18\u001b[0m Z \u001b[38;5;241m=\u001b[39m linkage(distance_matrix, method\u001b[38;5;241m=\u001b[39mmethod, metric\u001b[38;5;241m=\u001b[39mdistance_metric)\n",
      "\u001b[0;31mNameError\u001b[0m: name 'cosine_distances' is not defined"
     ]
    }
   ],
   "source": [
    "from scipy.cluster.hierarchy import linkage, dendrogram, fcluster\n",
    "import matplotlib.pyplot as plt\n",
    "\n",
    "def cluster_with_hierarchical(tfidf_matrix, distance_metric='cosine', method='complete', max_d=None):\n",
    "    \"\"\"\n",
    "    使用层次聚类进行聚类。\n",
    "    \n",
    "    :param tfidf_matrix: 文档的TF-IDF矩阵\n",
    "    :param distance_metric: 距离度量方法 ('euclidean', 'cosine', etc.)\n",
    "    :param method: 链接方法 ('single', 'complete', 'ward', etc.)\n",
    "    :param max_d: 截断层次树的最大距离\n",
    "    :return: 聚类标签\n",
    "    \"\"\"\n",
    "    # 计算距离矩阵\n",
    "    distance_matrix = cosine_distances(tfidf_matrix)\n",
    "    \n",
    "    # 进行层次聚类\n",
    "    Z = linkage(distance_matrix, method=method, metric=distance_metric)\n",
    "    \n",
    "    # 可视化树状图\n",
    "    plt.figure(figsize=(10, 7))\n",
    "    dendrogram(Z)\n",
    "    plt.show()\n",
    "    \n",
    "    # 根据最大距离来截断树状图，获取聚类标签\n",
    "    if max_d is not None:\n",
    "        labels = fcluster(Z, max_d, criterion='distance')\n",
    "    else:\n",
    "        labels = fcluster(Z, t=2, criterion='maxclust')  # 默认2个簇\n",
    "    return labels\n",
    "\n",
    "# 使用层次聚类并展示树状图\n",
    "labels = cluster_with_hierarchical(tfidf_matrix, max_d=1.5)\n",
    "\n",
    "# print(labels)\n",
    "\n",
    "# # 输出聚类结果\n",
    "# for heading, label in zip(all_headings, labels):\n",
    "#     print(f\"Heading: {heading}, Cluster: {label}\")"
   ]
  },
  {
   "cell_type": "code",
   "execution_count": 15,
   "metadata": {},
   "outputs": [
    {
     "data": {
      "image/png": "[encoded data removed]",
      "text/plain": [
       "<Figure size 640x480 with 1 Axes>"
      ]
     },
     "metadata": {},
     "output_type": "display_data"
    }
   ],
   "source": [
    "import matplotlib.pyplot as plt\n",
    "from sklearn.decomposition import PCA\n",
    "\n",
    "def visualize_clusters(tfidf_matrix, labels):\n",
    "    # 忽略label为-1的样本\n",
    "    valid_indices = labels != -1\n",
    "    tfidf_matrix = tfidf_matrix[valid_indices]\n",
    "    labels = labels[valid_indices]\n",
    "\n",
    "    pca = PCA(n_components=2)\n",
    "    reduced_data = pca.fit_transform(tfidf_matrix.toarray())\n",
    "    \n",
    "    plt.scatter(reduced_data[:, 0], reduced_data[:, 1], c=labels)\n",
    "    plt.title('Document Clustering')\n",
    "    plt.show()\n",
    "\n",
    "# 可视化聚类结果\n",
    "visualize_clusters(tfidf_matrix, labels)"
   ]
  },
  {
   "cell_type": "code",
   "execution_count": 21,
   "metadata": {},
   "outputs": [
    {
     "name": "stdout",
     "output_type": "stream",
     "text": [
      "Cluster 0:\n",
      "  查询紧急号码配置信息（LST NGEMGCNUM） 命令功能 注意事项 操作用户权限 参数说明 使用实例 结果如下 结果如下 输出结果说明\n",
      "  查询运营商紧急呼叫功能配置（LST NGEMGCFG） 命令功能 注意事项 操作用户权限 参数说明 使用实例 结果如下 结果如下 输出结果说明\n",
      "  查询NG接入CHR流程控制模板（LST NGACCCHRPRCTMPL） 命令功能 注意事项 操作用户权限 参数说明 使用实例 结果如下 结果如下 输出结果说明\n",
      "  查询AMF小范围CHR上报规则配置（LST NGSRCHRCFG） 命令功能 注意事项 操作用户权限 参数说明 使用实例 结果如下 结果如下 输出结果说明\n",
      "  查询5G PEI策略（LST NGPEIPLCY） 命令功能 注意事项 操作用户权限 参数说明 使用实例 结果如下 结果如下 输出结果说明\n",
      "  Total: 328\n",
      "\n",
      "Cluster 1:\n",
      "  ACC 属性 定义\n",
      "  ASR 属性 定义\n",
      "  AKA 属性 定义\n",
      "  AEC 属性 定义\n",
      "  ARP攻击 属性 定义\n",
      "  Total: 886\n",
      "\n",
      "Cluster 2:\n",
      "  Service request message identity 参考协议\n",
      "  PDU session modification request message identity 参考协议\n",
      "  Registration request message identity 参考协议\n",
      "  De-registration request message identity 参考协议\n",
      "  Access type 参考协议\n",
      "  Total: 369\n",
      "\n",
      "Cluster 3:\n",
      "  ALM-100108 N2接口固定速率流控起控 告警解释 告警属性 告警参数 对系统的影响 可能原因 处理步骤 参考信息\n",
      "  ALM-100157 UDM拥塞 告警解释 告警属性 告警参数 对系统的影响 可能原因 处理步骤 参考信息\n",
      "  ALM-100235 AMF配置更新请求失败 告警解释 告警属性 告警参数 对系统的影响 可能原因 处理步骤 参考信息\n",
      "  ALM-100288 基于消息类型的N2接口固定速率流控启控 告警解释 告警属性 告警参数 对系统的影响 可能原因 处理步骤 参考信息\n",
      "  ALM-100361 AMF切片可用性消息报文中的切片数量超限 告警解释 告警属性 告警参数 对系统的影响 可能原因 处理步骤 参考信息\n",
      "  Total: 412\n",
      "\n",
      "Cluster 4:\n",
      "  OM参考 命令 告警 软参 测量指标\n",
      "  SMF关键参考信息 命令 告警 软参 测量指标\n",
      "  UPF关键参考信息 命令 告警 软参 测量指标\n",
      "  参考信息 命令 告警 软参 测量指标\n",
      "  参考信息 命令 告警 软参 测量指标\n",
      "  Total: 270\n",
      "\n",
      "Cluster 5:\n",
      "  S1-MME接口 属性 定义\n",
      "  WSFD-104412 逻辑接口支持IPV6 适用NF 定义 客户价值 应用场景 可获得性 与其他特性的交互 对系统的影响 应用限制 原理概述 计费与话单 特性规格 遵循标准 发布历史\n",
      "  WSFD-104001 IPv6承载上下文特性概述（AMF/SMF） 适用NF 定义 客户价值 应用场景 可获得性 与其他特性的交互 对系统的影响 应用限制 原理概述 计费与话单 特性规格 遵循标准 发布历史\n",
      "  WSFD-104001 IPv6承载上下文特性概述（MME、S/PGW-C） 适用NF 定义 客户价值 应用场景 可获得性 与其他特性的交互 对系统的影响 应用限制 原理概述 计费与话单 特性规格 遵循标准 发布历史\n",
      "  WSFD-104001 IPv6承载上下文特性概述（SGSN/GGSN） 适用NF 定义 客户价值 应用场景 可获得性 与其他特性的交互 对系统的影响 应用限制 原理概述 计费与话单 特性规格 遵循标准 发布历史\n",
      "  Total: 480\n",
      "\n"
     ]
    }
   ],
   "source": [
    "# 展示若干个label下的heading例子\n",
    "for label in set(labels):\n",
    "    if label == -1:\n",
    "        continue\n",
    "    print(f\"Cluster {label}:\")\n",
    "    cnt = 0\n",
    "    print_cnt = 5\n",
    "    for i, heading in enumerate(all_headings):\n",
    "        if labels[i] == label:\n",
    "            # print(f\"  {heading}\")\n",
    "            if cnt < print_cnt:\n",
    "                print(f\"  {heading}\")\n",
    "            cnt += 1\n",
    "    print(f\"  Total: {cnt}\")\n",
    "    print()"
   ]
  },
  {
   "cell_type": "code",
   "execution_count": null,
   "metadata": {},
   "outputs": [],
   "source": []
  }
 ],
 "metadata": {
  "kernelspec": {
   "display_name": "opencompass",
   "language": "python",
   "name": "python3"
  },
  "language_info": {
   "codemirror_mode": {
    "name": "ipython",
    "version": 3
   },
   "file_extension": ".py",
   "mimetype": "text/x-python",
   "name": "python",
   "nbconvert_exporter": "python",
   "pygments_lexer": "ipython3",
   "version": "3.10.13"
  }
 },
 "nbformat": 4,
 "nbformat_minor": 2
}
