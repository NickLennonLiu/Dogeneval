{
 "cells": [
  {
   "cell_type": "code",
   "execution_count": 6,
   "metadata": {},
   "outputs": [],
   "source": [
    "import pandas as pd\n",
    "\n",
    "file = '/home/junetheriver/datasets/huawei/raw/模型十大能力用例-demo.json'\n",
    "\n",
    "df = pd.read_json(file)\n",
    "\n",
    "set(df['Category'])\n",
    "\n",
    "category_examples = {\n",
    "    cate: [\n",
    "        example.to_dict() for _, example in df.iterrows() if example['Category'] == cate\n",
    "    ]\n",
    "    for cate in set(df['Category'])\n",
    "}"
   ]
  },
  {
   "cell_type": "code",
   "execution_count": 7,
   "metadata": {},
   "outputs": [
    {
     "data": {
      "text/plain": [
       "[3, 5, 2, 1, 2, 5, 5, 5, 5, 3, 5, 3, 1, 5, 5, 3, 5, 5]"
      ]
     },
     "execution_count": 7,
     "metadata": {},
     "output_type": "execute_result"
    }
   ],
   "source": [
    "[len(cate_list) for cate, cate_list in category_examples.items()]"
   ]
  },
  {
   "cell_type": "code",
   "execution_count": 8,
   "metadata": {},
   "outputs": [],
   "source": [
    "with open('/home/junetheriver/codes/qa_generation/huawei/prompts/examples.json', 'w') as f:\n",
    "    import json\n",
    "    json.dump(category_examples, f, ensure_ascii=False, indent=4)"
   ]
  },
  {
   "cell_type": "code",
   "execution_count": null,
   "metadata": {},
   "outputs": [],
   "source": []
  }
 ],
 "metadata": {
  "kernelspec": {
   "display_name": "opencompass",
   "language": "python",
   "name": "python3"
  },
  "language_info": {
   "codemirror_mode": {
    "name": "ipython",
    "version": 3
   },
   "file_extension": ".py",
   "mimetype": "text/x-python",
   "name": "python",
   "nbconvert_exporter": "python",
   "pygments_lexer": "ipython3",
   "version": "3.10.13"
  }
 },
 "nbformat": 4,
 "nbformat_minor": 2
}
