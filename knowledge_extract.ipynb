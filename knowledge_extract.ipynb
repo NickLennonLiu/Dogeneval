{
 "cells": [
  {
   "cell_type": "code",
   "execution_count": 1,
   "metadata": {},
   "outputs": [],
   "source": [
    "from load_document import iter_folder\n",
    "\n",
    "def _form_docs_prompt(docs):\n",
    "    merged = \"\"\n",
    "    for doc in docs:\n",
    "        merged += f\"path: {doc['path']}\\n\"\n",
    "        merged += \"=========================\\n\"\n",
    "        merged += f\"{doc['content']}\\n\"\n",
    "        merged += \"=========================\\n\"\n",
    "    return merged\n",
    "\n",
    "root_path = '/home/junetheriver/codes/qa_generation/huawei/data/UNC_20.9.5/网络部署/初始配置/UNC初始配置与调测'\n",
    "\n",
    "\n",
    "def get_max_token_paths(root_path, max_token_num):\n",
    "    recorded_paths = []\n",
    "\n",
    "    save_recorded_path = f\"data/paths/{max_token_num}_paths_tmp.txt\"\n",
    "\n",
    "    def record_docs(path):\n",
    "        with open(save_recorded_path, \"a\") as f:\n",
    "            f.write(path + \"\\n\")\n",
    "        recorded_paths.append(path)\n",
    "\n",
    "    iter_folder(root_path, max_token_num, record_docs, merge_method=_form_docs_prompt)\n",
    "    \n",
    "    with open(f\"data/paths/{max_token_num}_paths.txt\", 'w') as f:\n",
    "        f.write(\"\\n\".join(recorded_paths))\n"
   ]
  },
  {
   "cell_type": "code",
   "execution_count": 2,
   "metadata": {},
   "outputs": [
    {
     "name": "stderr",
     "output_type": "stream",
     "text": [
      "Token indices sequence length is longer than the specified maximum sequence length for this model (457235 > 32768). Running this sequence through the model will result in indexing errors\n",
      "\u001b[32m2024-09-11 21:37:14.047\u001b[0m | \u001b[34m\u001b[1mDEBUG   \u001b[0m | \u001b[36mload_document\u001b[0m:\u001b[36miter_folder\u001b[0m:\u001b[36m69\u001b[0m - \u001b[34m\u001b[1mCurrent path: /home/junetheriver/codes/qa_generation/huawei/data/UNC_20.9.5/网络部署/初始配置/UNC初始配置与调测, token num: 457235 >= 4000\u001b[0m\n",
      "\u001b[32m2024-09-11 21:37:14.484\u001b[0m | \u001b[34m\u001b[1mDEBUG   \u001b[0m | \u001b[36mload_document\u001b[0m:\u001b[36miter_folder\u001b[0m:\u001b[36m69\u001b[0m - \u001b[34m\u001b[1mCurrent path: /home/junetheriver/codes/qa_generation/huawei/data/UNC_20.9.5/网络部署/初始配置/UNC初始配置与调测/2, token num: 232183 >= 4000\u001b[0m\n",
      "\u001b[32m2024-09-11 21:37:14.921\u001b[0m | \u001b[34m\u001b[1mDEBUG   \u001b[0m | \u001b[36mload_document\u001b[0m:\u001b[36miter_folder\u001b[0m:\u001b[36m69\u001b[0m - \u001b[34m\u001b[1mCurrent path: /home/junetheriver/codes/qa_generation/huawei/data/UNC_20.9.5/网络部署/初始配置/UNC初始配置与调测/2/3, token num: 232183 >= 4000\u001b[0m\n",
      "\u001b[32m2024-09-11 21:37:15.357\u001b[0m | \u001b[34m\u001b[1mDEBUG   \u001b[0m | \u001b[36mload_document\u001b[0m:\u001b[36miter_folder\u001b[0m:\u001b[36m69\u001b[0m - \u001b[34m\u001b[1mCurrent path: /home/junetheriver/codes/qa_generation/huawei/data/UNC_20.9.5/网络部署/初始配置/UNC初始配置与调测/2/3/4, token num: 232183 >= 4000\u001b[0m\n",
      "\u001b[32m2024-09-11 21:37:15.778\u001b[0m | \u001b[34m\u001b[1mDEBUG   \u001b[0m | \u001b[36mload_document\u001b[0m:\u001b[36miter_folder\u001b[0m:\u001b[36m69\u001b[0m - \u001b[34m\u001b[1mCurrent path: /home/junetheriver/codes/qa_generation/huawei/data/UNC_20.9.5/网络部署/初始配置/UNC初始配置与调测/2/3/4/5G融合组网对接配置, token num: 232183 >= 4000\u001b[0m\n",
      "\u001b[32m2024-09-11 21:37:15.823\u001b[0m | \u001b[34m\u001b[1mDEBUG   \u001b[0m | \u001b[36mload_document\u001b[0m:\u001b[36miter_folder\u001b[0m:\u001b[36m69\u001b[0m - \u001b[34m\u001b[1mCurrent path: /home/junetheriver/codes/qa_generation/huawei/data/UNC_20.9.5/网络部署/初始配置/UNC初始配置与调测/2/3/4/5G融合组网对接配置/配置AMF, token num: 21190 >= 4000\u001b[0m\n",
      "\u001b[32m2024-09-11 21:37:15.966\u001b[0m | \u001b[34m\u001b[1mDEBUG   \u001b[0m | \u001b[36mload_document\u001b[0m:\u001b[36miter_folder\u001b[0m:\u001b[36m69\u001b[0m - \u001b[34m\u001b[1mCurrent path: /home/junetheriver/codes/qa_generation/huawei/data/UNC_20.9.5/网络部署/初始配置/UNC初始配置与调测/2/3/4/5G融合组网对接配置/配置MME, token num: 73780 >= 4000\u001b[0m\n",
      "\u001b[32m2024-09-11 21:37:16.015\u001b[0m | \u001b[34m\u001b[1mDEBUG   \u001b[0m | \u001b[36mload_document\u001b[0m:\u001b[36miter_folder\u001b[0m:\u001b[36m69\u001b[0m - \u001b[34m\u001b[1mCurrent path: /home/junetheriver/codes/qa_generation/huawei/data/UNC_20.9.5/网络部署/初始配置/UNC初始配置与调测/2/3/4/5G融合组网对接配置/配置NRF, token num: 7970 >= 4000\u001b[0m\n",
      "\u001b[32m2024-09-11 21:37:16.040\u001b[0m | \u001b[34m\u001b[1mDEBUG   \u001b[0m | \u001b[36mload_document\u001b[0m:\u001b[36miter_folder\u001b[0m:\u001b[36m69\u001b[0m - \u001b[34m\u001b[1mCurrent path: /home/junetheriver/codes/qa_generation/huawei/data/UNC_20.9.5/网络部署/初始配置/UNC初始配置与调测/2/3/4/5G融合组网对接配置/配置NSSF, token num: 7237 >= 4000\u001b[0m\n",
      "\u001b[32m2024-09-11 21:37:16.226\u001b[0m | \u001b[34m\u001b[1mDEBUG   \u001b[0m | \u001b[36mload_document\u001b[0m:\u001b[36miter_folder\u001b[0m:\u001b[36m69\u001b[0m - \u001b[34m\u001b[1mCurrent path: /home/junetheriver/codes/qa_generation/huawei/data/UNC_20.9.5/网络部署/初始配置/UNC初始配置与调测/2/3/4/5G融合组网对接配置/配置SGSN, token num: 100585 >= 4000\u001b[0m\n",
      "\u001b[32m2024-09-11 21:37:16.274\u001b[0m | \u001b[34m\u001b[1mDEBUG   \u001b[0m | \u001b[36mload_document\u001b[0m:\u001b[36miter_folder\u001b[0m:\u001b[36m69\u001b[0m - \u001b[34m\u001b[1mCurrent path: /home/junetheriver/codes/qa_generation/huawei/data/UNC_20.9.5/网络部署/初始配置/UNC初始配置与调测/2/3/4/5G融合组网对接配置/配置SGSN/配置到GMLC的数据, token num: 12853 >= 4000\u001b[0m\n",
      "\u001b[32m2024-09-11 21:37:16.301\u001b[0m | \u001b[34m\u001b[1mDEBUG   \u001b[0m | \u001b[36mload_document\u001b[0m:\u001b[36miter_folder\u001b[0m:\u001b[36m69\u001b[0m - \u001b[34m\u001b[1mCurrent path: /home/junetheriver/codes/qa_generation/huawei/data/UNC_20.9.5/网络部署/初始配置/UNC初始配置与调测/2/3/4/5G融合组网对接配置/配置SGSN/配置到HLR的数据, token num: 13487 >= 4000\u001b[0m\n",
      "\u001b[32m2024-09-11 21:37:16.329\u001b[0m | \u001b[34m\u001b[1mDEBUG   \u001b[0m | \u001b[36mload_document\u001b[0m:\u001b[36miter_folder\u001b[0m:\u001b[36m69\u001b[0m - \u001b[34m\u001b[1mCurrent path: /home/junetheriver/codes/qa_generation/huawei/data/UNC_20.9.5/网络部署/初始配置/UNC初始配置与调测/2/3/4/5G融合组网对接配置/配置SGSN/配置到MSC, token num: 14418 >= 4000\u001b[0m\n",
      "\u001b[32m2024-09-11 21:37:16.352\u001b[0m | \u001b[34m\u001b[1mDEBUG   \u001b[0m | \u001b[36mload_document\u001b[0m:\u001b[36miter_folder\u001b[0m:\u001b[36m69\u001b[0m - \u001b[34m\u001b[1mCurrent path: /home/junetheriver/codes/qa_generation/huawei/data/UNC_20.9.5/网络部署/初始配置/UNC初始配置与调测/2/3/4/5G融合组网对接配置/配置SGSN/配置到MSC/VLR的数据, token num: 14418 >= 4000\u001b[0m\n",
      "\u001b[32m2024-09-11 21:37:16.376\u001b[0m | \u001b[34m\u001b[1mDEBUG   \u001b[0m | \u001b[36mload_document\u001b[0m:\u001b[36miter_folder\u001b[0m:\u001b[36m69\u001b[0m - \u001b[34m\u001b[1mCurrent path: /home/junetheriver/codes/qa_generation/huawei/data/UNC_20.9.5/网络部署/初始配置/UNC初始配置与调测/2/3/4/5G融合组网对接配置/配置SGSN/配置到SMC的数据, token num: 11422 >= 4000\u001b[0m\n",
      "\u001b[32m2024-09-11 21:37:16.425\u001b[0m | \u001b[34m\u001b[1mDEBUG   \u001b[0m | \u001b[36mload_document\u001b[0m:\u001b[36miter_folder\u001b[0m:\u001b[36m69\u001b[0m - \u001b[34m\u001b[1mCurrent path: /home/junetheriver/codes/qa_generation/huawei/data/UNC_20.9.5/网络部署/初始配置/UNC初始配置与调测/2/3/4/5G融合组网对接配置/配置SMF+GW-C, token num: 21421 >= 4000\u001b[0m\n",
      "\u001b[32m2024-09-11 21:37:16.556\u001b[0m | \u001b[34m\u001b[1mDEBUG   \u001b[0m | \u001b[36mload_document\u001b[0m:\u001b[36miter_folder\u001b[0m:\u001b[36m69\u001b[0m - \u001b[34m\u001b[1mCurrent path: /home/junetheriver/codes/qa_generation/huawei/data/UNC_20.9.5/网络部署/初始配置/UNC初始配置与调测/5G SA组网对接配置, token num: 57406 >= 4000\u001b[0m\n",
      "\u001b[32m2024-09-11 21:37:16.600\u001b[0m | \u001b[34m\u001b[1mDEBUG   \u001b[0m | \u001b[36mload_document\u001b[0m:\u001b[36miter_folder\u001b[0m:\u001b[36m69\u001b[0m - \u001b[34m\u001b[1mCurrent path: /home/junetheriver/codes/qa_generation/huawei/data/UNC_20.9.5/网络部署/初始配置/UNC初始配置与调测/5G SA组网对接配置/配置AMF, token num: 18344 >= 4000\u001b[0m\n",
      "\u001b[32m2024-09-11 21:37:16.635\u001b[0m | \u001b[34m\u001b[1mDEBUG   \u001b[0m | \u001b[36mload_document\u001b[0m:\u001b[36miter_folder\u001b[0m:\u001b[36m69\u001b[0m - \u001b[34m\u001b[1mCurrent path: /home/junetheriver/codes/qa_generation/huawei/data/UNC_20.9.5/网络部署/初始配置/UNC初始配置与调测/5G SA组网对接配置/配置NRF, token num: 7925 >= 4000\u001b[0m\n",
      "\u001b[32m2024-09-11 21:37:16.667\u001b[0m | \u001b[34m\u001b[1mDEBUG   \u001b[0m | \u001b[36mload_document\u001b[0m:\u001b[36miter_folder\u001b[0m:\u001b[36m69\u001b[0m - \u001b[34m\u001b[1mCurrent path: /home/junetheriver/codes/qa_generation/huawei/data/UNC_20.9.5/网络部署/初始配置/UNC初始配置与调测/5G SA组网对接配置/配置NSSF, token num: 7316 >= 4000\u001b[0m\n",
      "\u001b[32m2024-09-11 21:37:16.707\u001b[0m | \u001b[34m\u001b[1mDEBUG   \u001b[0m | \u001b[36mload_document\u001b[0m:\u001b[36miter_folder\u001b[0m:\u001b[36m69\u001b[0m - \u001b[34m\u001b[1mCurrent path: /home/junetheriver/codes/qa_generation/huawei/data/UNC_20.9.5/网络部署/初始配置/UNC初始配置与调测/5G SA组网对接配置/配置SMF, token num: 18649 >= 4000\u001b[0m\n",
      "\u001b[32m2024-09-11 21:37:16.734\u001b[0m | \u001b[34m\u001b[1mDEBUG   \u001b[0m | \u001b[36mload_document\u001b[0m:\u001b[36miter_folder\u001b[0m:\u001b[36m69\u001b[0m - \u001b[34m\u001b[1mCurrent path: /home/junetheriver/codes/qa_generation/huawei/data/UNC_20.9.5/网络部署/初始配置/UNC初始配置与调测/5G SA组网对接配置/配置SMSF, token num: 5172 >= 4000\u001b[0m\n",
      "\u001b[32m2024-09-11 21:37:16.766\u001b[0m | \u001b[34m\u001b[1mDEBUG   \u001b[0m | \u001b[36mload_document\u001b[0m:\u001b[36miter_folder\u001b[0m:\u001b[36m69\u001b[0m - \u001b[34m\u001b[1mCurrent path: /home/junetheriver/codes/qa_generation/huawei/data/UNC_20.9.5/网络部署/初始配置/UNC初始配置与调测/了解组网架构, token num: 5789 >= 4000\u001b[0m\n",
      "\u001b[32m2024-09-11 21:37:16.862\u001b[0m | \u001b[34m\u001b[1mDEBUG   \u001b[0m | \u001b[36mload_document\u001b[0m:\u001b[36miter_folder\u001b[0m:\u001b[36m69\u001b[0m - \u001b[34m\u001b[1mCurrent path: /home/junetheriver/codes/qa_generation/huawei/data/UNC_20.9.5/网络部署/初始配置/UNC初始配置与调测/典型配置实例, token num: 61118 >= 4000\u001b[0m\n",
      "\u001b[32m2024-09-11 21:37:16.901\u001b[0m | \u001b[34m\u001b[1mDEBUG   \u001b[0m | \u001b[36mload_document\u001b[0m:\u001b[36miter_folder\u001b[0m:\u001b[36m69\u001b[0m - \u001b[34m\u001b[1mCurrent path: /home/junetheriver/codes/qa_generation/huawei/data/UNC_20.9.5/网络部署/初始配置/UNC初始配置与调测/基础数据配置, token num: 6612 >= 4000\u001b[0m\n",
      "\u001b[32m2024-09-11 21:37:17.062\u001b[0m | \u001b[34m\u001b[1mDEBUG   \u001b[0m | \u001b[36mload_document\u001b[0m:\u001b[36miter_folder\u001b[0m:\u001b[36m69\u001b[0m - \u001b[34m\u001b[1mCurrent path: /home/junetheriver/codes/qa_generation/huawei/data/UNC_20.9.5/网络部署/初始配置/UNC初始配置与调测/组网路由配置, token num: 86130 >= 4000\u001b[0m\n",
      "\u001b[32m2024-09-11 21:37:17.104\u001b[0m | \u001b[34m\u001b[1mDEBUG   \u001b[0m | \u001b[36mload_document\u001b[0m:\u001b[36miter_folder\u001b[0m:\u001b[36m69\u001b[0m - \u001b[34m\u001b[1mCurrent path: /home/junetheriver/codes/qa_generation/huawei/data/UNC_20.9.5/网络部署/初始配置/UNC初始配置与调测/组网路由配置/配置VNF侧IP路由数据(SDN), token num: 21870 >= 4000\u001b[0m\n",
      "\u001b[32m2024-09-11 21:37:17.218\u001b[0m | \u001b[34m\u001b[1mDEBUG   \u001b[0m | \u001b[36mload_document\u001b[0m:\u001b[36miter_folder\u001b[0m:\u001b[36m69\u001b[0m - \u001b[34m\u001b[1mCurrent path: /home/junetheriver/codes/qa_generation/huawei/data/UNC_20.9.5/网络部署/初始配置/UNC初始配置与调测/组网路由配置/配置VNF侧IP路由数据（非SDN）, token num: 63752 >= 4000\u001b[0m\n",
      "\u001b[32m2024-09-11 21:37:17.275\u001b[0m | \u001b[34m\u001b[1mDEBUG   \u001b[0m | \u001b[36mload_document\u001b[0m:\u001b[36miter_folder\u001b[0m:\u001b[36m69\u001b[0m - \u001b[34m\u001b[1mCurrent path: /home/junetheriver/codes/qa_generation/huawei/data/UNC_20.9.5/网络部署/初始配置/UNC初始配置与调测/组网路由配置/配置VNF侧IP路由数据（非SDN）/手动部署, token num: 32953 >= 4000\u001b[0m\n",
      "\u001b[32m2024-09-11 21:37:17.335\u001b[0m | \u001b[34m\u001b[1mDEBUG   \u001b[0m | \u001b[36mload_document\u001b[0m:\u001b[36miter_folder\u001b[0m:\u001b[36m69\u001b[0m - \u001b[34m\u001b[1mCurrent path: /home/junetheriver/codes/qa_generation/huawei/data/UNC_20.9.5/网络部署/初始配置/UNC初始配置与调测/组网路由配置/配置VNF侧IP路由数据（非SDN）/自动部署（推荐）, token num: 29541 >= 4000\u001b[0m\n"
     ]
    }
   ],
   "source": [
    "get_max_token_paths(root_path, 2000)\n",
    "get_max_token_paths(root_path, 4000)\n",
    "get_max_token_paths(root_path, 6000)\n",
    "get_max_token_paths(root_path, 8000)\n",
    "get_max_token_paths(root_path, 10000)"
   ]
  },
  {
   "cell_type": "code",
   "execution_count": null,
   "metadata": {},
   "outputs": [],
   "source": []
  }
 ],
 "metadata": {
  "kernelspec": {
   "display_name": "opencompass",
   "language": "python",
   "name": "python3"
  },
  "language_info": {
   "codemirror_mode": {
    "name": "ipython",
    "version": 3
   },
   "file_extension": ".py",
   "mimetype": "text/x-python",
   "name": "python",
   "nbconvert_exporter": "python",
   "pygments_lexer": "ipython3",
   "version": "3.10.13"
  }
 },
 "nbformat": 4,
 "nbformat_minor": 2
}
